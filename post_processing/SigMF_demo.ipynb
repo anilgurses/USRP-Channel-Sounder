{
 "cells": [
  {
   "cell_type": "code",
   "execution_count": 2,
   "id": "436412e4",
   "metadata": {},
   "outputs": [],
   "source": [
    "import numpy as np \n",
    "import matplotlib.pyplot as plt \n",
    "from sigmf import SigMFFile, sigmffile\n",
    "import os"
   ]
  },
  {
   "cell_type": "code",
   "execution_count": 4,
   "id": "5a2cad1c",
   "metadata": {},
   "outputs": [
    {
     "name": "stdout",
     "output_type": "stream",
     "text": [
      "Available campaigns:\n",
      "0: 2023-12-15_16_53\n",
      "1: 2023-12-15_16_47\n",
      "2: 2023-12-15_16_42\n",
      "3: 2023-12-15_16_36\n",
      "4: 2023-12-15_16_19\n",
      "5: 2023-12-15_16_14\n",
      "6: 2023-12-15_15_58\n",
      "7: 2023-12-15_15_51\n",
      "8: 2023-12-15_15_41\n"
     ]
    }
   ],
   "source": [
    "DIR = '../A2G_Channel_Measurements/'\n",
    "## List the dirs with os as they include date information \n",
    "campaigns = [d for d in os.listdir(DIR) if os.path.isdir(os.path.join(DIR, d))]\n",
    "print(\"Available campaigns:\")\n",
    "for i, campaign in enumerate(campaigns):\n",
    "    print(f\"{i}: {campaign}\")"
   ]
  },
  {
   "cell_type": "code",
   "execution_count": null,
   "id": "40f08f4a",
   "metadata": {},
   "outputs": [
    {
     "name": "stdout",
     "output_type": "stream",
     "text": [
      "Selected campaign: 2023-12-15_16_47\n",
      "Loading file: ../A2G_Channel_Measurements/2023-12-15_16_47/Channel_Sounder_1702676907.962797.sigmf-data\n",
      "Metadata loaded from: ../A2G_Channel_Measurements/2023-12-15_16_47/Channel_Sounder_1702676907.962797.sigmf-meta\n"
     ]
    }
   ],
   "source": [
    "# Select a campaign\n",
    "C_IND = 1\n",
    "campaign = campaigns[C_IND]\n",
    "print(f\"Selected campaign: {campaign}\")\n",
    "\n",
    "campaign_dir = os.path.join(DIR, campaign)\n",
    "files = [f for f in os.listdir(campaign_dir) if f.endswith('.sigmf-data')]\n",
    "# Load the first file\n",
    "file_path = os.path.join(campaign_dir, files[0])\n",
    "print(f\"Loading file: {file_path}\")\n",
    "# Load the SIGMF file with numpy \n",
    "samples_direct = np.fromfile(file_path, dtype=np.complex64) # Assuming complex64 data\n",
    "\n",
    "# Load the metadata \n",
    "meta_file = file_path.replace('.sigmf-data', '.sigmf-meta')\n",
    "sigmf_meta = sigmffile.fromfile(meta_file)\n",
    "print(f\"Metadata loaded from: {meta_file}\")"
   ]
  },
  {
   "cell_type": "code",
   "execution_count": null,
   "id": "43d70fcc",
   "metadata": {},
   "outputs": [
    {
     "data": {
      "text/plain": [
       "SigMFFile({\n",
       "    \"global\": {\n",
       "        \"core:author\": \"https://aerpaw.org/\",\n",
       "        \"core:datatype\": \"f32_le\",\n",
       "        \"core:description\": \"Air-to-Ground Channel Sounding Measurements\",\n",
       "        \"core:num_channels\": 1,\n",
       "        \"core:rx_gain_ref\": -50.68,\n",
       "        \"core:sample_rate\": 56000000.0,\n",
       "        \"core:sha512\": \"5e45595a36d938fcdfdd17ec4e0903df017d2545a3d4e8f39901ead1d0d06fa0a24508abb8317d93d9f938155ca01e757659afc10e47b687f8489415140009ce\",\n",
       "        \"core:tx_gain_ref\": 19.97,\n",
       "        \"core:version\": \"1.2.5\",\n",
       "        \"core:waveform\": \"ZC\",\n",
       "        \"core:zc_len\": 401,\n",
       "        \"core:zc_root_index\": 200\n",
       "    },\n",
       "    \"captures\": [\n",
       "        {\n",
       "            \"core:dist\": 33.896263122558594,\n",
       "            \"core:flight_stage\": \"Flight\",\n",
       "            \"core:frequency\": 3686000000.0,\n",
       "            \"core:heading\": 0,\n",
       "            \"core:rotation\": {\n",
       "                \"pitch\": -0.002626692410558462,\n",
       "                \"roll\": -0.07481443136930466,\n",
       "                \"yaw\": 0.12749461829662323\n",
       "            },\n",
       "            \"core:rx_location\": {\n",
       "                \"altitude\": -0.27399998903274536,\n",
       "                \"latitude\": 35.72736740112305,\n",
       "                \"longitude\": -78.69623565673828\n",
       "            },\n",
       "            \"core:speed\": 0.01,\n",
       "            \"core:time\": 29.799999237060547,\n",
       "            \"core:timestamp\": 1702676907.962797,\n",
       "            \"core:tx_location\": {\n",
       "                \"altitude\": 12,\n",
       "                \"latitude\": 35.72747884,\n",
       "                \"longitude\": -78.69591754\n",
       "            },\n",
       "            \"core:velocity\": {\n",
       "                \"velocity_x\": 0.0,\n",
       "                \"velocity_y\": -0.01,\n",
       "                \"velocity_z\": 0.0\n",
       "            }\n",
       "        }\n",
       "    ],\n",
       "    \"annotations\": []\n",
       "})"
      ]
     },
     "execution_count": 15,
     "metadata": {},
     "output_type": "execute_result"
    }
   ],
   "source": [
    "sigmf_meta"
   ]
  },
  {
   "cell_type": "code",
   "execution_count": 28,
   "id": "c30db43c",
   "metadata": {},
   "outputs": [
    {
     "data": {
      "text/plain": [
       "{'core:version': '1.2.5',\n",
       " 'core:datatype': 'f32_le',\n",
       " 'core:author': 'https://aerpaw.org/',\n",
       " 'core:description': 'Air-to-Ground Channel Sounding Measurements',\n",
       " 'core:sample_rate': 56000000.0,\n",
       " 'core:num_channels': 1,\n",
       " 'core:tx_gain_ref': 19.97,\n",
       " 'core:rx_gain_ref': -50.68,\n",
       " 'core:waveform': 'ZC',\n",
       " 'core:zc_root_index': 200,\n",
       " 'core:zc_len': 401,\n",
       " 'core:sha512': '5e45595a36d938fcdfdd17ec4e0903df017d2545a3d4e8f39901ead1d0d06fa0a24508abb8317d93d9f938155ca01e757659afc10e47b687f8489415140009ce'}"
      ]
     },
     "execution_count": 28,
     "metadata": {},
     "output_type": "execute_result"
    }
   ],
   "source": [
    "sigmf_meta.get_global_info()"
   ]
  },
  {
   "cell_type": "code",
   "execution_count": 27,
   "id": "26d7e3f0",
   "metadata": {},
   "outputs": [
    {
     "data": {
      "text/plain": [
       "{'core:frequency': 3686000000.0,\n",
       " 'core:time': 29.799999237060547,\n",
       " 'core:rx_location': {'latitude': 35.72736740112305,\n",
       "  'longitude': -78.69623565673828,\n",
       "  'altitude': -0.27399998903274536},\n",
       " 'core:heading': 0,\n",
       " 'core:rotation': {'pitch': -0.002626692410558462,\n",
       "  'yaw': 0.12749461829662323,\n",
       "  'roll': -0.07481443136930466},\n",
       " 'core:velocity': {'velocity_x': 0.0, 'velocity_y': -0.01, 'velocity_z': 0.0},\n",
       " 'core:timestamp': 1702676907.962797,\n",
       " 'core:tx_location': {'latitude': 35.72747884,\n",
       "  'longitude': -78.69591754,\n",
       "  'altitude': 12},\n",
       " 'core:flight_stage': 'Flight',\n",
       " 'core:speed': 0.01,\n",
       " 'core:dist': 33.896263122558594}"
      ]
     },
     "execution_count": 27,
     "metadata": {},
     "output_type": "execute_result"
    }
   ],
   "source": [
    "sigmf_meta.get_captures()[0]"
   ]
  },
  {
   "cell_type": "code",
   "execution_count": null,
   "id": "9ff5ff2f",
   "metadata": {},
   "outputs": [],
   "source": []
  }
 ],
 "metadata": {
  "kernelspec": {
   "display_name": "usr",
   "language": "python",
   "name": "python3"
  },
  "language_info": {
   "codemirror_mode": {
    "name": "ipython",
    "version": 3
   },
   "file_extension": ".py",
   "mimetype": "text/x-python",
   "name": "python",
   "nbconvert_exporter": "python",
   "pygments_lexer": "ipython3",
   "version": "3.13.0"
  }
 },
 "nbformat": 4,
 "nbformat_minor": 5
}
